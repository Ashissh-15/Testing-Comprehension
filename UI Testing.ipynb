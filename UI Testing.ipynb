{
 "cells": [
  {
   "cell_type": "code",
   "execution_count": null,
   "id": "2db4c13c",
   "metadata": {},
   "outputs": [],
   "source": [
    "# Interface testing tests the user interface with web application, the interfaces between the \n",
    "# concerned client and servers, server and application server interface, and application \n",
    "# server and database server interface.\n",
    "# ERROR CHECKING CODE\n",
    "\n",
    "from selenium import webdriver\n",
    "from selenium.webdriver.common.by import By\n",
    "from selenium.webdriver.common.keys import Keys\n",
    "import time\n",
    "\n",
    "driver = webdriver.Edge()\n",
    "driver.get(\"https://practicetestautomation.com/practice-test-login/\")\n",
    "\n",
    "username_field = driver.find_element(By.NAME, \"username\")\n",
    "password_field = driver.find_element(By.NAME, \"password\")\n",
    "\n",
    "username_field.send_keys(\"student\")\n",
    "password_field.send_keys(\"Password456\")\n",
    "\n",
    "password_field.send_keys(Keys.ENTER)\n",
    "\n",
    "time.sleep(5)\n",
    "\n",
    "login_button = driver.find_element(By.ID, \"submit\")\n",
    "login_button.click()\n",
    "\n",
    "error_message = driver.find_element(By.ID, \"error\")\n",
    "if(error_message.is_displayed()): print(\"Error message is displayed , testing success\")\n",
    "else: print(\"Error message is not displayed , testing failure\")\n",
    "time.sleep(15)\n",
    "\n",
    "driver.quit()\n",
    "\n"
   ]
  },
  {
   "cell_type": "code",
   "execution_count": null,
   "id": "f75d3c56",
   "metadata": {},
   "outputs": [],
   "source": [
    "# Interface testing tests the user interface with web application, the interfaces between the \n",
    "# concerned client and servers, server and application server interface, and application \n",
    "# server and database server interface.\n",
    "# SCREENSIZE TESTING\n",
    "\n",
    "from selenium import webdriver\n",
    "from selenium.webdriver.common.by import By\n",
    "from selenium.webdriver.common.keys import Keys\n",
    "from selenium.webdriver.support.ui import WebDriverWait  # Add this import\n",
    "from selenium.webdriver.support import expected_conditions as EC\n",
    "import time\n",
    "driver = webdriver.Edge()\n",
    "driver.get(\"https://www.yatra.com/\")\n",
    "#driver.find_element(By.XPATH,\"//a[@id='booking_engine_cabs']\").click()\n",
    "driver.maximize_window()\n",
    "time.sleep(5)\n",
    "driver.set_window_size(800, 600)\n",
    "time.sleep(5)\n",
    "driver.set_window_size(1000,1000)\n",
    "\n",
    "for i in range(200,1000,50):\n",
    "        driver.set_window_size(500,i)\n",
    "        \n",
    "for i in range(200,1000,50):\n",
    "        driver.set_window_size(i,1000)\n",
    "        \n",
    "time.sleep(10)\n",
    "driver.quit()"
   ]
  }
 ],
 "metadata": {
  "kernelspec": {
   "display_name": "Python 3 (ipykernel)",
   "language": "python",
   "name": "python3"
  },
  "language_info": {
   "codemirror_mode": {
    "name": "ipython",
    "version": 3
   },
   "file_extension": ".py",
   "mimetype": "text/x-python",
   "name": "python",
   "nbconvert_exporter": "python",
   "pygments_lexer": "ipython3",
   "version": "3.11.4"
  }
 },
 "nbformat": 4,
 "nbformat_minor": 5
}
