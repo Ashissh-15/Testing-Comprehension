{
 "cells": [
  {
   "cell_type": "code",
   "execution_count": null,
   "id": "e255b2c6",
   "metadata": {},
   "outputs": [],
   "source": [
    "#AUTOMATION TESTING DATA DRIVEN\n",
    "\n",
    "from selenium import webdriver\n",
    "from selenium.webdriver.common.by import By\n",
    "from selenium.webdriver.support.ui import WebDriverWait\n",
    "from selenium.webdriver.support import expected_conditions as EC\n",
    "import time\n",
    "import csv\n",
    "\n",
    "driver = webdriver.Edge()\n",
    "driver.get(\"https://www.iplt20.com/stats/2024/mostRuns?stats_type=batting\")\n",
    "time.sleep(10)\n",
    "search=driver.find_element(By.XPATH,\"//input[@placeholder='Search By Player Name']\")\n",
    "time.sleep(10)\n",
    "with open('C:/Users/USER/Documents/Testing/batsman.csv', mode='r') as file:\n",
    "    reader = csv.reader(file)\n",
    "    for row in reader:\n",
    "        search.clear()\n",
    "        search.send_keys(row[0])\n",
    "        time.sleep(5)\n",
    "        "
   ]
  },
  {
   "cell_type": "code",
   "execution_count": null,
   "id": "c68bdcc5",
   "metadata": {},
   "outputs": [],
   "source": []
  }
 ],
 "metadata": {
  "kernelspec": {
   "display_name": "Python 3 (ipykernel)",
   "language": "python",
   "name": "python3"
  },
  "language_info": {
   "codemirror_mode": {
    "name": "ipython",
    "version": 3
   },
   "file_extension": ".py",
   "mimetype": "text/x-python",
   "name": "python",
   "nbconvert_exporter": "python",
   "pygments_lexer": "ipython3",
   "version": "3.11.4"
  }
 },
 "nbformat": 4,
 "nbformat_minor": 5
}
